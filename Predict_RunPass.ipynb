{
 "cells": [
  {
   "cell_type": "markdown",
   "metadata": {},
   "source": [
    "# Data Cleaning and Preprocessing"
   ]
  },
  {
   "cell_type": "code",
   "execution_count": 1,
   "metadata": {},
   "outputs": [],
   "source": [
    "# Imports #\n",
    "import pandas as pd\n",
    "from sklearn.model_selection import train_test_split\n",
    "import matplotlib.pyplot as plt\n",
    "from sklearn.metrics import accuracy_score, confusion_matrix, classification_report\n",
    "from sklearn.ensemble import RandomForestClassifier\n",
    "import numpy as np\n",
    "from IPython.display import display\n",
    "# Exploration #\n",
    "#import seaborn as sns\n",
    "#from sklearn.preprocessing import StandardScaler\n",
    "#from sklearn.linear_model import LogisticRegression"
   ]
  },
  {
   "cell_type": "code",
   "execution_count": 2,
   "metadata": {},
   "outputs": [],
   "source": [
    "# Data #\n",
    "df = 'Sample_PFF_Data.csv'\n",
    "df = pd.read_csv(df)"
   ]
  },
  {
   "cell_type": "markdown",
   "metadata": {},
   "source": [
    "#### The data will be cleaned and processed by focusing on true plays where it's reasonable for the offense to run or pass. Plays like kickoffs and plays that didn't have an R or P values for column RUNPASS are removed from the dataset.\n",
    "#### Plays where the column POAACTUAL is QB Fumble or QB Kneel were also removed because to me these are not true run plays because a qb fumble could come on a designed pass play and a qb kneel is not a play the offense uses to try to advance position on the defense.\n",
    "#### Because the question is concerned with predicting the next play, variables that are available to us prior to the snap of the ball is what I am concerned with. While using other variables like how many yards were gained on the play, where the drive ended on the field, and direction of the run/pass would likely improve accuracy of the model I didn't see them as valuable in this scenario because we want to predict what the play will be before the ball is snapped not after."
   ]
  },
  {
   "cell_type": "code",
   "execution_count": 3,
   "metadata": {},
   "outputs": [],
   "source": [
    "# Clean and Process the dataframe #\n",
    "clean_df = df.dropna(subset=['RUNPASS']).reset_index(drop=True)\n",
    "clean_df = clean_df[clean_df['RUNPASS'] != 'X']\n",
    "clean_df = clean_df.dropna(subset=['DRIVE']).reset_index(drop=True)\n",
    "# Other play types to eliminate #\n",
    "clean_df = clean_df[~clean_df['POAACTUAL'].isin(['QB FUMBLE', 'QB KNEEL'])]\n",
    "# Columns to keep in the dataframe #\n",
    "keep_cols = ['DEFPERSONNEL', 'DEFSUBSTITUTIONS', 'DISTANCE', 'DOWN', 'DRIVEPLAY',\n",
    "             'DRIVESTARTFIELDPOSITION', 'FIELDPOSITION', 'GAINLOSSNET' , 'GARBAGETIME',\n",
    "             'HASH', 'MOFOCSHOWN', 'OFFPERSONNELBASIC', 'OFFFORMATIONUNBALANCED' ,\n",
    "             'OFFSUBSTITUTIONS', 'RBSINBACKFIELD' , 'QBRESET', 'TRICKLOOK' ,\n",
    "             'QUARTER', 'SCOREDIFFERENTIAL', 'SHOTGUN', 'SHIFTMOTION', 'TEALIGNMENT',\n",
    "             'OffTeam', 'DefTeam', 'PLAYID','PREVIOUSPFFPLAYID', '2MINUTE',\n",
    "             'DRIVESTARTEVENT', 'RUNPASS']\n",
    "clean_df = clean_df[keep_cols]\n",
    "# Fill cols w 0s that need them #\n",
    "clean_df['RBSINBACKFIELD'].fillna(0, inplace=True)"
   ]
  },
  {
   "cell_type": "markdown",
   "metadata": {},
   "source": [
    "#### The data I have chosen to consider for this scenario is grouped into several broad categories.\n",
    "#### Game Situation - These variables are relevant because the constraints of the rules and a given situation are influential in what play is likely to be called.\n",
    "- DISTANCE, DOWN, DRIVEPLAY, DRIVESTARTFIELDPOSITION, FIELDPOSITION, GAINLOSSNET, GARBAGETIME, QUARTER, SCOREDIEFFERENTIAL, 2MINUTE, DRIVESTARTEVENT\n",
    "#### Team Alignment - These variables are relevant for assessing how the team lines up can indicate the resulting play call.\n",
    "- DEFPERSONNEL, DEFSUBSTITUTIONS, HASH, MOFOCSHOWN, OFFPERSONNELBASIC, OFFFORMATIONUNBALANCED ,OFFSUBSTITUTIONS, RBSINBACKFIELD , QBRESET, TRICKLOOK, SHOTGUN, SHIFTMOTION, TEALIGNMENT, OffTeam, DefTeam,\n",
    "#### Misc - These variables were used to help calculate additional factors.\n",
    "- PLAYID, PREVIOUSPFFPLAYID\n",
    "#### It is possible that I misunderstood what some of these variables meant but my intent was to only consider variables that are available prior to the start of a play. I started building my model with primarily game situation factors and added the alignment factors as I iterated and attempted to improve accuracy."
   ]
  },
  {
   "cell_type": "markdown",
   "metadata": {},
   "source": [
    "# Feature Engineering\n",
    "#### Some features I found useful to add to the dataset is the result of net yards gained on the previous play as well as if the previous play was a run or a pass.\n",
    "#### If a play was the first play of the drive or didn't have a previous play to reference I set the value of net yards gained to 0, assuming the approach to a likely 1st and 10 situation would be similar to the approach on 2nd and 10 which also occurs after 0 net yards gained on a play."
   ]
  },
  {
   "cell_type": "code",
   "execution_count": 4,
   "metadata": {},
   "outputs": [],
   "source": [
    "# Add features #\n",
    "# Change in Field Position from Previous Play #\n",
    "play_to_fieldposition = clean_df.set_index('PLAYID')['GAINLOSSNET']\n",
    "clean_df['PREVIOUS_FIELDPOSITION_CHANGE'] = clean_df['PREVIOUSPFFPLAYID'].map(\n",
    "    play_to_fieldposition)\n",
    "clean_df['PREVIOUS_FIELDPOSITION_CHANGE'].fillna(0, inplace=True)\n",
    "# R/P of Previous Play #\n",
    "play_to_runpass = clean_df.set_index('PLAYID')['RUNPASS']\n",
    "clean_df['PREVIOUS_RUNPASS'] = clean_df['PREVIOUSPFFPLAYID'].map(play_to_runpass)"
   ]
  },
  {
   "cell_type": "markdown",
   "metadata": {},
   "source": [
    "### Create Additional Factors:\n",
    "#### Some other features I added to the dataset is grouping the distance to a first down into short, medium, and long sections. I choose these groupings based on hoping to roughly split the dataset into 3 even groups based on 10 yards being the typical length to a first down. Obviously a huge amount of the plays occur on 1st and 10 but besides that I think these groupings are balanced.\n",
    "#### Short: 1-3 yards to go\n",
    "#### Medium: 4-7 yards to go\n",
    "#### Long: 8+ yards to go\n",
    "#### Next the score differentials were grouped based on the max points scored with one possession being 8. This score combined with time constraints of a game will likely be influential for strategy.\n",
    "#### Set 7 groupings of either tied, and up or down by 1,2,3+ scores\n",
    "#### A variable was also created from the offensive personnel column that totaled how many RBs or TEs were on the field for a given play. This was a way to reduce the number of possible combinations since many personnel groupings were available."
   ]
  },
  {
   "cell_type": "code",
   "execution_count": 5,
   "metadata": {},
   "outputs": [],
   "source": [
    "# Yardage Groupings #\n",
    "clean_df['DISTANCE_GROUPS'] = clean_df['DISTANCE'].apply(\n",
    "    lambda x: 'short' if x in [1, 2, 3]\n",
    "    else 'medium' if x in [4, 5, 6, 7,] else 'long')\n",
    "# Score Groupings #\n",
    "clean_df['SCORE_GROUPS'] = clean_df['SCOREDIFFERENTIAL'].apply(\n",
    "    lambda x: 'tie' if x == 0\n",
    "    else '1 score' if 0 < x < 9\n",
    "    else '2 score' if 8 < x < 17\n",
    "    else '-1 score' if -9 < x < 0\n",
    "    else '-2 score' if -17 < x < -8\n",
    "    else '-3 score' if x < -16 else '3 score')"
   ]
  },
  {
   "cell_type": "code",
   "execution_count": 6,
   "metadata": {},
   "outputs": [],
   "source": [
    "# Personnel Groupings #\n",
    "clean_df[['RB', 'TE', 'EXTRA']] = clean_df['OFFPERSONNELBASIC'].str.extract(\n",
    "    r'(\\d)(\\d)(?: \\((.*?)\\))?').fillna(0)\n",
    "clean_df['RB_TE_sum'] = clean_df['RB'].astype(int) + clean_df['TE'].astype(int)"
   ]
  },
  {
   "cell_type": "markdown",
   "metadata": {},
   "source": [
    "# Exploratory Analysis"
   ]
  },
  {
   "cell_type": "markdown",
   "metadata": {},
   "source": [
    "#### Group by team"
   ]
  },
  {
   "cell_type": "code",
   "execution_count": 7,
   "metadata": {},
   "outputs": [
    {
     "name": "stdout",
     "output_type": "stream",
     "text": [
      "Pass Frequency:\n"
     ]
    },
    {
     "data": {
      "text/plain": [
       "count    32.000000\n",
       "mean     62.094882\n",
       "std       3.977675\n",
       "min      54.084967\n",
       "25%      59.163705\n",
       "50%      62.464979\n",
       "75%      65.488364\n",
       "max      68.953688\n",
       "Name: P%, dtype: float64"
      ]
     },
     "execution_count": 7,
     "metadata": {},
     "output_type": "execute_result"
    }
   ],
   "source": [
    "team_df = clean_df.groupby(\n",
    "    ['OffTeam'])['RUNPASS'].value_counts().unstack().reset_index()\n",
    "team_df.rename(columns={'P': 'COUNT_P', 'R': 'COUNT_R'}, inplace=True)\n",
    "team_df['P%'] = (team_df['COUNT_P'] / (team_df['COUNT_P'] + team_df['COUNT_R'])) * 100\n",
    "team_df['R%'] = 100 - team_df['P%']\n",
    "print(\"Pass Frequency:\")\n",
    "team_df['P%'].describe()"
   ]
  },
  {
   "cell_type": "code",
   "execution_count": 8,
   "metadata": {},
   "outputs": [
    {
     "name": "stdout",
     "output_type": "stream",
     "text": [
      "Run Frequency:\n"
     ]
    },
    {
     "data": {
      "text/plain": [
       "count    32.000000\n",
       "mean     37.905118\n",
       "std       3.977675\n",
       "min      31.046312\n",
       "25%      34.511636\n",
       "50%      37.535021\n",
       "75%      40.836295\n",
       "max      45.915033\n",
       "Name: R%, dtype: float64"
      ]
     },
     "execution_count": 8,
     "metadata": {},
     "output_type": "execute_result"
    }
   ],
   "source": [
    "print(\"Run Frequency:\")\n",
    "team_df['R%'].describe()"
   ]
  },
  {
   "cell_type": "markdown",
   "metadata": {},
   "source": [
    "#### As part of my beginning analysis I looked at the run/pass diet when grouped by all teams. An average of 61.14% of a teams plays are pass plays. The rest are run plays. The team that runs the ball the most still averages around 54% of its play as passes in this dataset."
   ]
  },
  {
   "cell_type": "markdown",
   "metadata": {},
   "source": [
    "#### Group by down"
   ]
  },
  {
   "cell_type": "code",
   "execution_count": 9,
   "metadata": {},
   "outputs": [
    {
     "data": {
      "text/html": [
       "<style type=\"text/css\">\n",
       "</style>\n",
       "<table id=\"T_a2e78_\">\n",
       "  <thead>\n",
       "    <tr>\n",
       "      <th class=\"col_heading level0 col0\" >DOWN</th>\n",
       "      <th class=\"col_heading level0 col1\" >P%</th>\n",
       "      <th class=\"col_heading level0 col2\" >R%</th>\n",
       "      <th class=\"col_heading level0 col3\" >DOWN_FREQ%</th>\n",
       "    </tr>\n",
       "  </thead>\n",
       "  <tbody>\n",
       "    <tr>\n",
       "      <td id=\"T_a2e78_row0_col0\" class=\"data row0 col0\" >1</td>\n",
       "      <td id=\"T_a2e78_row0_col1\" class=\"data row0 col1\" >52.221708</td>\n",
       "      <td id=\"T_a2e78_row0_col2\" class=\"data row0 col2\" >47.778292</td>\n",
       "      <td id=\"T_a2e78_row0_col3\" class=\"data row0 col3\" >44.754013</td>\n",
       "    </tr>\n",
       "    <tr>\n",
       "      <td id=\"T_a2e78_row1_col0\" class=\"data row1 col0\" >2</td>\n",
       "      <td id=\"T_a2e78_row1_col1\" class=\"data row1 col1\" >62.788145</td>\n",
       "      <td id=\"T_a2e78_row1_col2\" class=\"data row1 col2\" >37.211855</td>\n",
       "      <td id=\"T_a2e78_row1_col3\" class=\"data row1 col3\" >33.024340</td>\n",
       "    </tr>\n",
       "    <tr>\n",
       "      <td id=\"T_a2e78_row2_col0\" class=\"data row2 col0\" >3</td>\n",
       "      <td id=\"T_a2e78_row2_col1\" class=\"data row2 col1\" >82.401443</td>\n",
       "      <td id=\"T_a2e78_row2_col2\" class=\"data row2 col2\" >17.598557</td>\n",
       "      <td id=\"T_a2e78_row2_col3\" class=\"data row2 col3\" >20.098395</td>\n",
       "    </tr>\n",
       "    <tr>\n",
       "      <td id=\"T_a2e78_row3_col0\" class=\"data row3 col0\" >4</td>\n",
       "      <td id=\"T_a2e78_row3_col1\" class=\"data row3 col1\" >65.609756</td>\n",
       "      <td id=\"T_a2e78_row3_col2\" class=\"data row3 col2\" >34.390244</td>\n",
       "      <td id=\"T_a2e78_row3_col3\" class=\"data row3 col3\" >2.123252</td>\n",
       "    </tr>\n",
       "  </tbody>\n",
       "</table>\n"
      ],
      "text/plain": [
       "<pandas.io.formats.style.Styler at 0x7f9f86ac0e80>"
      ]
     },
     "metadata": {},
     "output_type": "display_data"
    }
   ],
   "source": [
    "down_df = clean_df.groupby(\n",
    "    ['DOWN'])['RUNPASS'].value_counts().unstack().reset_index()\n",
    "down_df.rename(columns={'P': 'COUNT_P', 'R': 'COUNT_R'}, inplace=True)\n",
    "down_df['P%'] = (down_df['COUNT_P'] / (down_df['COUNT_P'] + down_df['COUNT_R'])) * 100\n",
    "down_df['R%'] = 100 - down_df['P%']\n",
    "down_df['plays_on_down'] = down_df['COUNT_R'] + down_df['COUNT_P']\n",
    "total_plays = clean_df.shape[0]\n",
    "down_df['DOWN_FREQ%'] = (down_df['plays_on_down'] / total_plays) * 100\n",
    "display(down_df[['DOWN', 'P%', 'R%', 'DOWN_FREQ%']].style.hide_index())"
   ]
  },
  {
   "cell_type": "markdown",
   "metadata": {},
   "source": [
    "#### Looking at all downs, it is clear that the down is very influential in the type of play.\n",
    "#### On first down teams run 47.78% of the time. This is greater than the percentage of the most run heavy team average in the dataset.\n",
    "#### On second down the percentage of passes at 62.79% is very similar to the league average among all teams in the dataset.\n",
    "#### On third down there's a dramatic increase in pass percentage to 82.40%.\n",
    "#### Plays on fourth down make up a very small percentage of overall plays, they hold a distribution slightly more pass heavy than a team average."
   ]
  },
  {
   "cell_type": "markdown",
   "metadata": {},
   "source": [
    "#### Group by yardage"
   ]
  },
  {
   "cell_type": "code",
   "execution_count": 10,
   "metadata": {},
   "outputs": [
    {
     "data": {
      "text/html": [
       "<style type=\"text/css\">\n",
       "</style>\n",
       "<table id=\"T_6d9ed_\">\n",
       "  <thead>\n",
       "    <tr>\n",
       "      <th class=\"col_heading level0 col0\" >DISTANCE_GROUPS</th>\n",
       "      <th class=\"col_heading level0 col1\" >P%</th>\n",
       "      <th class=\"col_heading level0 col2\" >R%</th>\n",
       "      <th class=\"col_heading level0 col3\" >DIST_FREQ%</th>\n",
       "    </tr>\n",
       "  </thead>\n",
       "  <tbody>\n",
       "    <tr>\n",
       "      <td id=\"T_6d9ed_row0_col0\" class=\"data row0 col0\" >long</td>\n",
       "      <td id=\"T_6d9ed_row0_col1\" class=\"data row0 col1\" >63.166435</td>\n",
       "      <td id=\"T_6d9ed_row0_col2\" class=\"data row0 col2\" >36.833565</td>\n",
       "      <td id=\"T_6d9ed_row0_col3\" class=\"data row0 col3\" >67.022268</td>\n",
       "    </tr>\n",
       "    <tr>\n",
       "      <td id=\"T_6d9ed_row1_col0\" class=\"data row1 col0\" >medium</td>\n",
       "      <td id=\"T_6d9ed_row1_col1\" class=\"data row1 col1\" >69.814865</td>\n",
       "      <td id=\"T_6d9ed_row1_col2\" class=\"data row1 col2\" >30.185135</td>\n",
       "      <td id=\"T_6d9ed_row1_col3\" class=\"data row1 col3\" >19.300880</td>\n",
       "    </tr>\n",
       "    <tr>\n",
       "      <td id=\"T_6d9ed_row2_col0\" class=\"data row2 col0\" >short</td>\n",
       "      <td id=\"T_6d9ed_row2_col1\" class=\"data row2 col1\" >45.702385</td>\n",
       "      <td id=\"T_6d9ed_row2_col2\" class=\"data row2 col2\" >54.297615</td>\n",
       "      <td id=\"T_6d9ed_row2_col3\" class=\"data row2 col3\" >13.676851</td>\n",
       "    </tr>\n",
       "  </tbody>\n",
       "</table>\n"
      ],
      "text/plain": [
       "<pandas.io.formats.style.Styler at 0x7f9f6aecf9d0>"
      ]
     },
     "metadata": {},
     "output_type": "display_data"
    }
   ],
   "source": [
    "distance_df = clean_df.groupby(\n",
    "    ['DISTANCE_GROUPS'])['RUNPASS'].value_counts().unstack().reset_index()\n",
    "distance_df.rename(columns={'P': 'COUNT_P', 'R': 'COUNT_R'}, inplace=True)\n",
    "distance_df['P%'] = (distance_df['COUNT_P'] /\n",
    "                     (distance_df['COUNT_P'] + distance_df['COUNT_R'])) * 100\n",
    "distance_df['R%'] = 100 - distance_df['P%']\n",
    "distance_df['plays_on_dist'] = distance_df['COUNT_R'] + distance_df['COUNT_P']\n",
    "distance_df['DIST_FREQ%'] = (distance_df['plays_on_dist'] / total_plays) * 100\n",
    "display(distance_df[['DISTANCE_GROUPS', 'P%', 'R%', 'DIST_FREQ%']].style.hide_index())"
   ]
  },
  {
   "cell_type": "markdown",
   "metadata": {},
   "source": [
    "#### When grouping by my created distance groups variable, Long is the highest frequency due to every drive starting in a 1st and \"long\" situation, and it's notable that over 2/3 of the plays in the dataset come in a long situation.\n",
    "#### I am intrigued that the percentage of passes on medium downs at 69.81% is higher than long downs. This is likely affected by a high percentage of 1st and 10 run plays.\n",
    "#### Short situations we see that run plays are the majority at 54.30% but this is not as overwhelming of a majority as I expected."
   ]
  },
  {
   "cell_type": "markdown",
   "metadata": {},
   "source": [
    "#### Group by game score"
   ]
  },
  {
   "cell_type": "code",
   "execution_count": 11,
   "metadata": {},
   "outputs": [
    {
     "data": {
      "text/html": [
       "<style type=\"text/css\">\n",
       "</style>\n",
       "<table id=\"T_f71b1_\">\n",
       "  <thead>\n",
       "    <tr>\n",
       "      <th class=\"col_heading level0 col0\" >SCORE_GROUPS</th>\n",
       "      <th class=\"col_heading level0 col1\" >P%</th>\n",
       "      <th class=\"col_heading level0 col2\" >R%</th>\n",
       "      <th class=\"col_heading level0 col3\" >SCORE_FREQ%</th>\n",
       "    </tr>\n",
       "  </thead>\n",
       "  <tbody>\n",
       "    <tr>\n",
       "      <td id=\"T_f71b1_row0_col0\" class=\"data row0 col0\" >-1 score</td>\n",
       "      <td id=\"T_f71b1_row0_col1\" class=\"data row0 col1\" >64.948859</td>\n",
       "      <td id=\"T_f71b1_row0_col2\" class=\"data row0 col2\" >35.051141</td>\n",
       "      <td id=\"T_f71b1_row0_col3\" class=\"data row0 col3\" >26.328327</td>\n",
       "    </tr>\n",
       "    <tr>\n",
       "      <td id=\"T_f71b1_row1_col0\" class=\"data row1 col0\" >-2 score</td>\n",
       "      <td id=\"T_f71b1_row1_col1\" class=\"data row1 col1\" >72.862745</td>\n",
       "      <td id=\"T_f71b1_row1_col2\" class=\"data row1 col2\" >27.137255</td>\n",
       "      <td id=\"T_f71b1_row1_col3\" class=\"data row1 col3\" >13.205593</td>\n",
       "    </tr>\n",
       "    <tr>\n",
       "      <td id=\"T_f71b1_row2_col0\" class=\"data row2 col0\" >-3 score</td>\n",
       "      <td id=\"T_f71b1_row2_col1\" class=\"data row2 col1\" >74.238733</td>\n",
       "      <td id=\"T_f71b1_row2_col2\" class=\"data row2 col2\" >25.761267</td>\n",
       "      <td id=\"T_f71b1_row2_col3\" class=\"data row2 col3\" >8.503366</td>\n",
       "    </tr>\n",
       "    <tr>\n",
       "      <td id=\"T_f71b1_row3_col0\" class=\"data row3 col0\" >1 score</td>\n",
       "      <td id=\"T_f71b1_row3_col1\" class=\"data row3 col1\" >56.521739</td>\n",
       "      <td id=\"T_f71b1_row3_col2\" class=\"data row3 col2\" >43.478261</td>\n",
       "      <td id=\"T_f71b1_row3_col3\" class=\"data row3 col3\" >20.129467</td>\n",
       "    </tr>\n",
       "    <tr>\n",
       "      <td id=\"T_f71b1_row4_col0\" class=\"data row4 col0\" >2 score</td>\n",
       "      <td id=\"T_f71b1_row4_col1\" class=\"data row4 col1\" >53.477765</td>\n",
       "      <td id=\"T_f71b1_row4_col2\" class=\"data row4 col2\" >46.522235</td>\n",
       "      <td id=\"T_f71b1_row4_col3\" class=\"data row4 col3\" >9.083376</td>\n",
       "    </tr>\n",
       "    <tr>\n",
       "      <td id=\"T_f71b1_row5_col0\" class=\"data row5 col0\" >3 score</td>\n",
       "      <td id=\"T_f71b1_row5_col1\" class=\"data row5 col1\" >43.676939</td>\n",
       "      <td id=\"T_f71b1_row5_col2\" class=\"data row5 col2\" >56.323061</td>\n",
       "      <td id=\"T_f71b1_row5_col3\" class=\"data row5 col3\" >4.873123</td>\n",
       "    </tr>\n",
       "    <tr>\n",
       "      <td id=\"T_f71b1_row6_col0\" class=\"data row6 col0\" >tie</td>\n",
       "      <td id=\"T_f71b1_row6_col1\" class=\"data row6 col1\" >59.646582</td>\n",
       "      <td id=\"T_f71b1_row6_col2\" class=\"data row6 col2\" >40.353418</td>\n",
       "      <td id=\"T_f71b1_row6_col3\" class=\"data row6 col3\" >17.876748</td>\n",
       "    </tr>\n",
       "  </tbody>\n",
       "</table>\n"
      ],
      "text/plain": [
       "<pandas.io.formats.style.Styler at 0x7f9f6d4d5e20>"
      ]
     },
     "metadata": {},
     "output_type": "display_data"
    }
   ],
   "source": [
    "score_df = clean_df.groupby(\n",
    "    ['SCORE_GROUPS'])['RUNPASS'].value_counts().unstack().reset_index()\n",
    "score_df.rename(columns={'P': 'COUNT_P', 'R': 'COUNT_R'}, inplace=True)\n",
    "score_df['P%'] = (score_df['COUNT_P'] /\n",
    "                  (score_df['COUNT_P'] + score_df['COUNT_R'])) * 100\n",
    "score_df['R%'] = 100 - score_df['P%']\n",
    "score_df['plays_on_score'] = score_df['COUNT_R'] + score_df['COUNT_P']\n",
    "score_df['SCORE_FREQ%'] = (score_df['plays_on_score'] / total_plays) * 100\n",
    "display(score_df[['SCORE_GROUPS', 'P%', 'R%', 'SCORE_FREQ%']].style.hide_index())"
   ]
  },
  {
   "cell_type": "markdown",
   "metadata": {},
   "source": [
    "#### Looking at the created score group variables, it follows intuitively that the larger winning score margin the more teams run the ball and vice versa.\n",
    "#### A team with a one score lead runs the ball around 7% more than the average frequency across the whole dataset.\n",
    "#### I also find it notable how close games are in general in the dataset. About 64% of all plays occurred while the game was tied or one score either way."
   ]
  },
  {
   "cell_type": "markdown",
   "metadata": {},
   "source": [
    "# Feature Engineering Cont'd\n",
    "#### From the findings of the exploratory analysis I wanted to create an additional variable which accounts for down and distance simultaneously as well as has a separate category which is just for 1st and 10 because of it's high frequency. The variable DOWN_DISTANCE takes the down and adds to it a value which is either short, medium, long if it's not a 1st and 10 scenario."
   ]
  },
  {
   "cell_type": "code",
   "execution_count": 12,
   "metadata": {},
   "outputs": [],
   "source": [
    "# Add Combined Down and Distance Factor #\n",
    "clean_df['DOWN_DISTANCE'] = np.where(\n",
    "    ((clean_df['DOWN'] == 1) & (clean_df['DISTANCE'] == 10)),\n",
    "    '1 and ten',\n",
    "    clean_df['DOWN'].astype(str) + \" and \" + clean_df['DISTANCE_GROUPS'])"
   ]
  },
  {
   "cell_type": "markdown",
   "metadata": {},
   "source": [
    "# Predictive Modeling\n",
    "#### I chose to use a random forest modeling approach because I felt that its flexibility was well suited to finding the most impactful variables among the variety of potential variables in this dataset.\n",
    "#### I got rid of variables that were either ID's or used in creating the additional features. I also turned the necessary variables into categorical format before performing a 75/25 train/test split on the dataset."
   ]
  },
  {
   "cell_type": "code",
   "execution_count": 13,
   "metadata": {},
   "outputs": [],
   "source": [
    "# Get rid of variables that were used in feature calculation/no longer needed #\n",
    "x_df = clean_df.drop(['RUNPASS', 'PLAYID', 'PREVIOUSPFFPLAYID', 'GAINLOSSNET', 'RB',\n",
    "                      'TE', 'EXTRA', 'DOWN', 'DISTANCE', 'DISTANCE_GROUPS',\n",
    "                      'OFFPERSONNELBASIC', 'SCOREDIFFERENTIAL', 'DEFPERSONNEL'], axis=1)\n",
    "y_df = clean_df['RUNPASS']\n",
    "# Account for variables that need to be listed categorically #\n",
    "x_df = pd.get_dummies(x_df, drop_first=True)\n",
    "# Train/Test dataset split with a 25% Test size #\n",
    "x_train, x_test, y_train, y_test = train_test_split(\n",
    "    x_df, y_df, train_size=0.75, random_state=2)"
   ]
  },
  {
   "cell_type": "code",
   "execution_count": 14,
   "metadata": {},
   "outputs": [
    {
     "data": {
      "text/plain": [
       "HASH_R                    HASH_L                      0.801471\n",
       "HASH_L                    HASH_R                      0.801471\n",
       "DRIVEPLAY                 FIELDPOSITION               0.418472\n",
       "FIELDPOSITION             DRIVEPLAY                   0.418472\n",
       "DEFSUBSTITUTIONS          OFFSUBSTITUTIONS            0.386879\n",
       "OFFSUBSTITUTIONS          DEFSUBSTITUTIONS            0.386879\n",
       "DOWN_DISTANCE_1 and ten   DOWN_DISTANCE_2 and long    0.366283\n",
       "DOWN_DISTANCE_2 and long  DOWN_DISTANCE_1 and ten     0.366283\n",
       "GARBAGETIME               SCORE_GROUPS_-3 score       0.354711\n",
       "SCORE_GROUPS_-3 score     GARBAGETIME                 0.354711\n",
       "dtype: float64"
      ]
     },
     "metadata": {},
     "output_type": "display_data"
    }
   ],
   "source": [
    "# Variable Selection #\n",
    "# Look for correlation #\n",
    "corr_matrix = x_train.corr()\n",
    "np.fill_diagonal(corr_matrix.values, np.nan)\n",
    "corr_series = corr_matrix.unstack()\n",
    "corr_series = corr_series.dropna()\n",
    "corr_series = corr_series.abs().sort_values(ascending=False)\n",
    "display(corr_series[0:10])\n",
    "# Correlation Heatmap #\n",
    "#sns.heatmap(corr_matrix, annot=True, fmt=\".2f\", cmap=\"coolwarm\")\n",
    "#plt.show()"
   ]
  },
  {
   "cell_type": "markdown",
   "metadata": {},
   "source": [
    "#### Initially there were some variables with very high correlations including HASH and SPOTLEFT, DRIVE and QUARTER. One of those along with the variables that were used to create the features were removed from the dataframe. Besides the hash categorical variable which is correlated with itself none of the other variables present an excessive amount of correlation."
   ]
  },
  {
   "cell_type": "code",
   "execution_count": 15,
   "metadata": {},
   "outputs": [
    {
     "name": "stdout",
     "output_type": "stream",
     "text": [
      "Accuracy: 0.7452361226180613\n",
      "Confusion Matrix:\n",
      " [[2451  559]\n",
      " [ 671 1147]]\n",
      "Classification Report:\n",
      "               precision    recall  f1-score   support\n",
      "\n",
      "           P       0.79      0.81      0.80      3010\n",
      "           R       0.67      0.63      0.65      1818\n",
      "\n",
      "    accuracy                           0.75      4828\n",
      "   macro avg       0.73      0.72      0.73      4828\n",
      "weighted avg       0.74      0.75      0.74      4828\n",
      "\n"
     ]
    }
   ],
   "source": [
    "# Random Forest All Factors #\n",
    "rf = RandomForestClassifier(n_estimators=500, random_state=2)\n",
    "rf.fit(x_train, y_train)\n",
    "# Run Prediction #\n",
    "y_pred_rf = rf.predict(x_test)\n",
    "# Calculate accuracy and other metrics\n",
    "accuracy_rf = accuracy_score(y_test, y_pred_rf)\n",
    "confusion_mat_rf = confusion_matrix(y_test, y_pred_rf)\n",
    "classification_rep_rf = classification_report(y_test, y_pred_rf)\n",
    "print(\"Accuracy:\", accuracy_rf)\n",
    "print(\"Confusion Matrix:\\n\", confusion_mat_rf)\n",
    "print(\"Classification Report:\\n\", classification_rep_rf)"
   ]
  },
  {
   "cell_type": "markdown",
   "metadata": {},
   "source": [
    "#### The model is performing with an accuracy above 74%. The model is doing a better job accurately predicting pass plays than run plays. This is somewhat intuitive because many of the long yardage situations are likely easily identifiable as clear pass situations as compared to many 1st and 10 as well as 2nd and medium and 3rd and short situations could be either.\n",
    "#### Another reason for this I believe is because in general there's more pass plays than run plays, so it's natural to default to classifying a play as pass. It's possible that some resampling to have the percentage of run plays in the dataset higher could be useful.\n",
    "#### Another thing to consider from a strategic perspective is which is more damaging? A false pass prediction when it's a run, or a false run prediction when it's a pass. I think a false run prediction is more damaging because it's likely that more long gains come via the pass than run.\n",
    "#### Because of this I attempted to improve the recall accuracy for run predictions when iterating this model. I looked for some specific run alignment factors and added RBSINBACKFIELD and FORMATIONUNBALANCED. I went on to add some other factors I hoped were somewhat indicative of pre-snap giveaways like QBRESET and TRICKLOOK. Overall this helped improve the recall on run plays from around 0.55 to its current mark of around 0.63."
   ]
  },
  {
   "cell_type": "markdown",
   "metadata": {},
   "source": [
    "# Model Interpretation"
   ]
  },
  {
   "cell_type": "code",
   "execution_count": 16,
   "metadata": {},
   "outputs": [
    {
     "data": {
      "text/html": [
       "<style type=\"text/css\">\n",
       "</style>\n",
       "<table id=\"T_08229_\">\n",
       "  <thead>\n",
       "    <tr>\n",
       "      <th class=\"col_heading level0 col0\" >Feature</th>\n",
       "      <th class=\"col_heading level0 col1\" >Importance</th>\n",
       "    </tr>\n",
       "  </thead>\n",
       "  <tbody>\n",
       "    <tr>\n",
       "      <td id=\"T_08229_row0_col0\" class=\"data row0 col0\" >FIELDPOSITION</td>\n",
       "      <td id=\"T_08229_row0_col1\" class=\"data row0 col1\" >0.063346</td>\n",
       "    </tr>\n",
       "    <tr>\n",
       "      <td id=\"T_08229_row1_col0\" class=\"data row1 col0\" >PREVIOUS_FIELDPOSITION_CHANGE</td>\n",
       "      <td id=\"T_08229_row1_col1\" class=\"data row1 col1\" >0.058446</td>\n",
       "    </tr>\n",
       "    <tr>\n",
       "      <td id=\"T_08229_row2_col0\" class=\"data row2 col0\" >DRIVESTARTFIELDPOSITION</td>\n",
       "      <td id=\"T_08229_row2_col1\" class=\"data row2 col1\" >0.051583</td>\n",
       "    </tr>\n",
       "    <tr>\n",
       "      <td id=\"T_08229_row3_col0\" class=\"data row3 col0\" >RBSINBACKFIELD</td>\n",
       "      <td id=\"T_08229_row3_col1\" class=\"data row3 col1\" >0.051116</td>\n",
       "    </tr>\n",
       "    <tr>\n",
       "      <td id=\"T_08229_row4_col0\" class=\"data row4 col0\" >DRIVEPLAY</td>\n",
       "      <td id=\"T_08229_row4_col1\" class=\"data row4 col1\" >0.042390</td>\n",
       "    </tr>\n",
       "    <tr>\n",
       "      <td id=\"T_08229_row5_col0\" class=\"data row5 col0\" >RB_TE_sum</td>\n",
       "      <td id=\"T_08229_row5_col1\" class=\"data row5 col1\" >0.040422</td>\n",
       "    </tr>\n",
       "    <tr>\n",
       "      <td id=\"T_08229_row6_col0\" class=\"data row6 col0\" >QUARTER</td>\n",
       "      <td id=\"T_08229_row6_col1\" class=\"data row6 col1\" >0.030027</td>\n",
       "    </tr>\n",
       "    <tr>\n",
       "      <td id=\"T_08229_row7_col0\" class=\"data row7 col0\" >2MINUTE</td>\n",
       "      <td id=\"T_08229_row7_col1\" class=\"data row7 col1\" >0.028984</td>\n",
       "    </tr>\n",
       "    <tr>\n",
       "      <td id=\"T_08229_row8_col0\" class=\"data row8 col0\" >TRICKLOOK</td>\n",
       "      <td id=\"T_08229_row8_col1\" class=\"data row8 col1\" >0.021976</td>\n",
       "    </tr>\n",
       "    <tr>\n",
       "      <td id=\"T_08229_row9_col0\" class=\"data row9 col0\" >DOWN_DISTANCE_3 and long</td>\n",
       "      <td id=\"T_08229_row9_col1\" class=\"data row9 col1\" >0.017703</td>\n",
       "    </tr>\n",
       "    <tr>\n",
       "      <td id=\"T_08229_row10_col0\" class=\"data row10 col0\" >DOWN_DISTANCE_3 and medium</td>\n",
       "      <td id=\"T_08229_row10_col1\" class=\"data row10 col1\" >0.016777</td>\n",
       "    </tr>\n",
       "    <tr>\n",
       "      <td id=\"T_08229_row11_col0\" class=\"data row11 col0\" >DOWN_DISTANCE_1 and ten</td>\n",
       "      <td id=\"T_08229_row11_col1\" class=\"data row11 col1\" >0.016129</td>\n",
       "    </tr>\n",
       "    <tr>\n",
       "      <td id=\"T_08229_row12_col0\" class=\"data row12 col0\" >TEALIGNMENT_R</td>\n",
       "      <td id=\"T_08229_row12_col1\" class=\"data row12 col1\" >0.015821</td>\n",
       "    </tr>\n",
       "    <tr>\n",
       "      <td id=\"T_08229_row13_col0\" class=\"data row13 col0\" >SHIFTMOTION</td>\n",
       "      <td id=\"T_08229_row13_col1\" class=\"data row13 col1\" >0.014981</td>\n",
       "    </tr>\n",
       "    <tr>\n",
       "      <td id=\"T_08229_row14_col0\" class=\"data row14 col0\" >PREVIOUS_RUNPASS_R</td>\n",
       "      <td id=\"T_08229_row14_col1\" class=\"data row14 col1\" >0.014949</td>\n",
       "    </tr>\n",
       "    <tr>\n",
       "      <td id=\"T_08229_row15_col0\" class=\"data row15 col0\" >MOFOCSHOWN_O</td>\n",
       "      <td id=\"T_08229_row15_col1\" class=\"data row15 col1\" >0.014537</td>\n",
       "    </tr>\n",
       "    <tr>\n",
       "      <td id=\"T_08229_row16_col0\" class=\"data row16 col0\" >HASH_L</td>\n",
       "      <td id=\"T_08229_row16_col1\" class=\"data row16 col1\" >0.013810</td>\n",
       "    </tr>\n",
       "    <tr>\n",
       "      <td id=\"T_08229_row17_col0\" class=\"data row17 col0\" >HASH_R</td>\n",
       "      <td id=\"T_08229_row17_col1\" class=\"data row17 col1\" >0.013428</td>\n",
       "    </tr>\n",
       "    <tr>\n",
       "      <td id=\"T_08229_row18_col0\" class=\"data row18 col0\" >DEFSUBSTITUTIONS</td>\n",
       "      <td id=\"T_08229_row18_col1\" class=\"data row18 col1\" >0.012220</td>\n",
       "    </tr>\n",
       "    <tr>\n",
       "      <td id=\"T_08229_row19_col0\" class=\"data row19 col0\" >OFFSUBSTITUTIONS</td>\n",
       "      <td id=\"T_08229_row19_col1\" class=\"data row19 col1\" >0.011278</td>\n",
       "    </tr>\n",
       "    <tr>\n",
       "      <td id=\"T_08229_row20_col0\" class=\"data row20 col0\" >SCORE_GROUPS_1 score</td>\n",
       "      <td id=\"T_08229_row20_col1\" class=\"data row20 col1\" >0.011075</td>\n",
       "    </tr>\n",
       "    <tr>\n",
       "      <td id=\"T_08229_row21_col0\" class=\"data row21 col0\" >DOWN_DISTANCE_2 and short</td>\n",
       "      <td id=\"T_08229_row21_col1\" class=\"data row21 col1\" >0.010487</td>\n",
       "    </tr>\n",
       "    <tr>\n",
       "      <td id=\"T_08229_row22_col0\" class=\"data row22 col0\" >DRIVESTARTEVENT_KICKOFF - </td>\n",
       "      <td id=\"T_08229_row22_col1\" class=\"data row22 col1\" >0.010429</td>\n",
       "    </tr>\n",
       "    <tr>\n",
       "      <td id=\"T_08229_row23_col0\" class=\"data row23 col0\" >DRIVESTARTEVENT_KICKOFF - RETURN</td>\n",
       "      <td id=\"T_08229_row23_col1\" class=\"data row23 col1\" >0.010144</td>\n",
       "    </tr>\n",
       "    <tr>\n",
       "      <td id=\"T_08229_row24_col0\" class=\"data row24 col0\" >SCORE_GROUPS_tie</td>\n",
       "      <td id=\"T_08229_row24_col1\" class=\"data row24 col1\" >0.009676</td>\n",
       "    </tr>\n",
       "  </tbody>\n",
       "</table>\n"
      ],
      "text/plain": [
       "<pandas.io.formats.style.Styler at 0x7f9f86a04d30>"
      ]
     },
     "metadata": {},
     "output_type": "display_data"
    },
    {
     "data": {
      "text/plain": [
       "0.6017370849796746"
      ]
     },
     "execution_count": 16,
     "metadata": {},
     "output_type": "execute_result"
    }
   ],
   "source": [
    "feature_importances = rf.feature_importances_\n",
    "feature_importance_df = pd.DataFrame({\n",
    "    'Feature': x_train.columns,\n",
    "    'Importance': feature_importances})\n",
    "feature_importance_df = feature_importance_df.sort_values(\n",
    "    by='Importance', ascending=False)\n",
    "display(feature_importance_df[['Feature', 'Importance']][0:25].style.hide_index())\n",
    "feature_importance_df['Importance'][0:25].sum()"
   ]
  },
  {
   "cell_type": "markdown",
   "metadata": {},
   "source": [
    "#### The above feature importance table shows that the first 25 factors account for about 60% of model importance with the remaining factors all having an impact less than 1%.\n",
    "#### The 3 most important factors being related to field position is not that surprising in light of the fact that the game is very constrained. The model is recognizing that as you get further from your territory and closer to the end zone the field length constraint is influential on play calling and how many yards you just gained or lost is also influential when combined with the Down_Distance factors. Overall 5 of the features created are in the top 12 most importance which is a good sign that those features were valuable.\n",
    "#### Another interesting finding is the RBSINTHEBACKFIELD, RB_TE_sum, and TRICKLOOK all being among the 10 most important features. This shows how personnel and formation can be used to help predict the upcoming play, and I think there's room to improve this on a more team specific basis. It was also useful to use these variables in place of the Off/Def Personnel groupings which really crowds the dataset when turned into categorical variables.\n"
   ]
  },
  {
   "cell_type": "markdown",
   "metadata": {},
   "source": [
    "#### Next I reran the model using only the most important features and eliminating the others."
   ]
  },
  {
   "cell_type": "code",
   "execution_count": 17,
   "metadata": {},
   "outputs": [],
   "source": [
    "# Rerun model with top 25 most important features #\n",
    "feature_importance_list = feature_importance_df['Feature'][0:25].to_list()\n",
    "# Get rid of variables that were used in feature calculation/no longer needed #\n",
    "x_select_df = clean_df.drop(\n",
    "    ['RUNPASS', 'PLAYID', 'PREVIOUSPFFPLAYID', 'GAINLOSSNET'], axis=1)\n",
    "y_select_df = clean_df['RUNPASS']\n",
    "# Account for variables that need to be listed categorically #\n",
    "x_select_df = pd.get_dummies(x_df, drop_first=True)\n",
    "x_select_df = x_df[feature_importance_list]\n",
    "# Train/Test dataset split with a 25% Test size #\n",
    "x_select_train, x_select_test, y_select_train, y_select_test = train_test_split(\n",
    "    x_select_df, y_select_df, train_size=0.75, random_state=2)"
   ]
  },
  {
   "cell_type": "code",
   "execution_count": 18,
   "metadata": {},
   "outputs": [
    {
     "name": "stdout",
     "output_type": "stream",
     "text": [
      "Accuracy: 0.7174813587406794\n",
      "Confusion Matrix:\n",
      " [[2367  643]\n",
      " [ 721 1097]]\n",
      "Classification Report:\n",
      "               precision    recall  f1-score   support\n",
      "\n",
      "           P       0.77      0.79      0.78      3010\n",
      "           R       0.63      0.60      0.62      1818\n",
      "\n",
      "    accuracy                           0.72      4828\n",
      "   macro avg       0.70      0.69      0.70      4828\n",
      "weighted avg       0.72      0.72      0.72      4828\n",
      "\n"
     ]
    }
   ],
   "source": [
    "# Random Forest with selected features #\n",
    "rf_select = RandomForestClassifier(n_estimators=500, random_state=2)\n",
    "rf_select.fit(x_select_train, y_select_train)\n",
    "feature_importances_select = rf_select.feature_importances_\n",
    "feature_importance_select_df = pd.DataFrame({\n",
    "    'Feature': x_select_train.columns,\n",
    "    'Importance': feature_importances_select})\n",
    "feature_importance_select_df = feature_importance_select_df.sort_values(\n",
    "    by='Importance', ascending=False)\n",
    "# Random Forest Predictions #\n",
    "y_pred_rf_select = rf_select.predict(x_select_test)\n",
    "# Evaluate the model #\n",
    "accuracy_select = accuracy_score(y_select_test, y_pred_rf_select)\n",
    "confusion_mat_select = confusion_matrix(y_test, y_pred_rf_select)\n",
    "classification_rep_select = classification_report(y_test, y_pred_rf_select)\n",
    "print(\"Accuracy:\", accuracy_select)\n",
    "print(\"Confusion Matrix:\\n\", confusion_mat_select)\n",
    "print(\"Classification Report:\\n\", classification_rep_select)"
   ]
  },
  {
   "cell_type": "markdown",
   "metadata": {},
   "source": [
    "#### The model reran with only the top 25 variables held up decently well with an accuracy of nearly 72%, when removing a lot of variables both run and pass precision and recall decreased, bringing down the f1-score of both. Run play accuracy seems to have been affected slightly more. "
   ]
  },
  {
   "cell_type": "markdown",
   "metadata": {},
   "source": [
    "# Insights and Visualizations"
   ]
  },
  {
   "cell_type": "markdown",
   "metadata": {},
   "source": [
    "#### I added the RUNPASS column and the prediction column back to my test dataset."
   ]
  },
  {
   "cell_type": "code",
   "execution_count": 19,
   "metadata": {},
   "outputs": [],
   "source": [
    "recap_df = pd.merge(y_test, clean_df, left_index=True, right_index=True, how='left')\n",
    "recap_df = recap_df.drop(['RUNPASS_y'], axis=1)\n",
    "recap_df = recap_df.rename(columns={'RUNPASS_x': 'RUNPASS'})\n",
    "recap_df['RUNPASS_PRED'] = y_pred_rf\n",
    "recap_df['PRED_SCORE'] = (recap_df['RUNPASS'] == recap_df['RUNPASS_PRED']).astype(int)\n",
    "recap_df = recap_df.reset_index(drop=True)"
   ]
  },
  {
   "cell_type": "code",
   "execution_count": 20,
   "metadata": {},
   "outputs": [],
   "source": [
    "# Look at prediction % based on down #\n",
    "down_groupings = recap_df.groupby(\n",
    "    'DOWN')['PRED_SCORE'].value_counts().unstack(fill_value=0).reset_index()\n",
    "down_groupings = down_groupings.rename(columns={0:'Incorrect', 1: 'Correct'})\n",
    "down_groupings['Total'] = down_groupings['Incorrect'] + down_groupings['Correct']\n",
    "down_groupings['Correct_%'] = (down_groupings['Correct'] / down_groupings['Total']) \\\n",
    "                              * 100"
   ]
  },
  {
   "cell_type": "markdown",
   "metadata": {},
   "source": [
    "#### I combined my exploratory data of the whole dataset grouped by down to the prediction accuracy also based on down."
   ]
  },
  {
   "cell_type": "code",
   "execution_count": 21,
   "metadata": {},
   "outputs": [],
   "source": [
    "down_groupings = pd.merge(down_groupings, down_df, left_on='DOWN', right_on='DOWN')"
   ]
  },
  {
   "cell_type": "code",
   "execution_count": 22,
   "metadata": {},
   "outputs": [
    {
     "data": {
      "image/png": "[encoded data removed]",
      "text/plain": [
       "<Figure size 640x480 with 1 Axes>"
      ]
     },
     "metadata": {},
     "output_type": "display_data"
    }
   ],
   "source": [
    "# Plot the correct % alongside run % based on what down it is #\n",
    "titans_colors = ['#002244', '#4B92DB', '#C60C30', '#A5ACAF']\n",
    "fig, ax = plt.subplots()\n",
    "bar_width = 0.35\n",
    "bar1 = ax.bar(down_groupings['DOWN'] - bar_width/2,\n",
    "              down_groupings['Correct_%'], width=bar_width,\n",
    "              label='Correct %', color=titans_colors[1])\n",
    "bar2 = ax.bar(down_groupings['DOWN'] + bar_width/2,\n",
    "              down_groupings['R%'], width=bar_width,\n",
    "              label='Run %', color=titans_colors[2])\n",
    "ax.set_xticks(down_groupings['DOWN'])\n",
    "#\n",
    "ax.set_xlabel('DOWN')\n",
    "ax.set_ylabel('PERCENT')\n",
    "ax.legend()\n",
    "plt.title(\"Correct Prediction % and Run Play %\")\n",
    "plt.show()\n"
   ]
  },
  {
   "cell_type": "markdown",
   "metadata": {},
   "source": [
    "#### Looking at the above chart you can see that 1st down was the most difficult down to correctly assess in the test data by more than 7%, this is correlated with first down also containing the most run plays by more than 10% over other downs in the total dataset.\n",
    "#### Going back to the model accuracy this is why to me improving the accuracy of run play classification is most important because it will likely also help improve the accuracy of first down prediction which is the most difficult down to predict.\n",
    "#### Both the 3rd and 4th down accuracy were higher than 85% which speaks to how well the model performs when it has more context to use compared to 1st down which is the most unpredictable. If I did further work on this it would be interesting to have more team based stats and scouting tendencies to incorporate to this dataset. Simply the labels of which team was which did not prove to be very significant, but I think closer steady of team tendencies could be useful in improving the 1st down accuracy of the model.\n"
   ]
  },
  {
   "cell_type": "markdown",
   "metadata": {},
   "source": [
    "#### When you look at prediction based on team, there's not really any teams that stand out as be super difficult to predict. But with additional factors to consider for each team I think that could change. "
   ]
  },
  {
   "cell_type": "code",
   "execution_count": 23,
   "metadata": {},
   "outputs": [
    {
     "name": "stdout",
     "output_type": "stream",
     "text": [
      "Prediction % By Team:\n",
      " count    32.000000\n",
      "mean     74.494474\n",
      "std       3.053983\n",
      "min      68.211921\n",
      "25%      72.600203\n",
      "50%      74.600414\n",
      "75%      75.866572\n",
      "max      82.352941\n",
      "Name: Correct_%, dtype: float64\n"
     ]
    }
   ],
   "source": [
    "# Look at prediction by down based on additional factors #\n",
    "team_groupings = recap_df.groupby(\n",
    "    ['OffTeam'])['PRED_SCORE'].value_counts().unstack(fill_value=0).reset_index()\n",
    "team_groupings = team_groupings.rename(columns={0:'Incorrect', 1: 'Correct'})\n",
    "team_groupings['Total'] = team_groupings['Incorrect'] + team_groupings['Correct']\n",
    "team_groupings['Correct_%'] = (team_groupings['Correct'] / team_groupings['Total']) \\\n",
    "                              * 100\n",
    "print(\"Prediction % By Team:\\n\",team_groupings['Correct_%'].describe())\n",
    "# Look at prediction by RB+TE numbers #\n",
    "off_groupings = recap_df.groupby(\n",
    "    ['RB_TE_sum'])['PRED_SCORE'].value_counts().unstack(fill_value=0).reset_index()\n",
    "off_groupings = off_groupings.rename(columns={0:'Incorrect', 1: 'Correct'})\n",
    "off_groupings['Total'] = off_groupings['Incorrect'] + off_groupings['Correct']\n",
    "off_groupings['Correct_%'] = (off_groupings['Correct'] / off_groupings['Total']) \\\n",
    "                             * 100\n",
    "off_groupings['Personnel_Freq_%'] = (off_groupings['Total'] /\n",
    "                                     off_groupings['Correct_%'])\n",
    "#print(off_groupings['Correct_%'].describe())"
   ]
  },
  {
   "cell_type": "markdown",
   "metadata": {},
   "source": [
    "#### Next I plotted the sum of RBs and TEs that were in on a given play."
   ]
  },
  {
   "cell_type": "code",
   "execution_count": 24,
   "metadata": {},
   "outputs": [
    {
     "data": {
      "image/png": "[encoded data removed]",
      "text/plain": [
       "<Figure size 640x480 with 1 Axes>"
      ]
     },
     "metadata": {},
     "output_type": "display_data"
    }
   ],
   "source": [
    "# Plot correct % and frequency % based on personnel groups #\n",
    "fig, ax = plt.subplots()\n",
    "bar1 = ax.bar(off_groupings['RB_TE_sum'] - bar_width/2,\n",
    "              off_groupings['Correct_%'], width=bar_width,\n",
    "              label='Correct %', color=titans_colors[1])\n",
    "bar2 = ax.bar(off_groupings['RB_TE_sum'] + bar_width/2,\n",
    "              off_groupings['Personnel_Freq_%'], width=bar_width,\n",
    "              label='Frequency %', color=titans_colors[2])\n",
    "ax.set_xticks(off_groupings['RB_TE_sum'])\n",
    "#\n",
    "ax.set_xlabel('Number of RB and TE in play')\n",
    "ax.set_ylabel('PERCENT')\n",
    "ax.legend()\n",
    "plt.title(\"Correct Prediction % and Frequency % of Personnel Groups\")\n",
    "plt.show()"
   ]
  },
  {
   "cell_type": "markdown",
   "metadata": {},
   "source": [
    "#### What sticks out the most from this chart is in addition to the large percentage of plays that either have 2 or 3 RBs or TEs on the field, the personnel with 3 had a prediction accuracy about 7% lower than the personnel with 2 in the test dataset. This is once again likely because personnel with 3 RBs or TEs is likely very run heavy and as we've seen the model is not as good at classifying run plays as passing plays.\n",
    "#### Cases of 0 or 5 were very rare in the dataset."
   ]
  },
  {
   "cell_type": "markdown",
   "metadata": {},
   "source": [
    "# Closing\n"
   ]
  },
  {
   "cell_type": "markdown",
   "metadata": {},
   "source": [
    "#### Assuming the end goal is to use modeling to help inform defensive play calling, improving the run play classification and first down accuracy is the most important in my opinion because that is also likely the down where the play callers could use the most help. The model does very well on other downs because it is aware of down and distance pointers just like the coaching staff is. Being able to gain any slight edge on first down would be very valuable because winning that down makes predicting the offenses future attacks easier.\n",
    "#### If I were to continue working on this project I would aim to see how prescriptive a model could get in regard to what area of the field a team is likely to attack on a given run or pass play. I would also aim to incorporate additional data to help add a stronger team component to the model predictions.\n",
    "#### Overall this was an interesting project to work on. It was encouraging to see some engineered features be highly ranking in model importance as well as be able to take away a good portion of the predictors and have the model accuracy only slightly diminish. This will be valuable to future endeavors as we look to add additional data to this model and don't want the amount of variables to get too large. Overall, by using only pre-snap factors the random forest model was able to accurately predict if a play would be a run or pass in the majority of situations while not using an excessive amount of predictors."
   ]
  }
 ],
 "metadata": {
  "kernelspec": {
   "display_name": "Python 3 (ipykernel)",
   "language": "python",
   "name": "python3"
  },
  "language_info": {
   "codemirror_mode": {
    "name": "ipython",
    "version": 3
   },
   "file_extension": ".py",
   "mimetype": "text/x-python",
   "name": "python",
   "nbconvert_exporter": "python",
   "pygments_lexer": "ipython3",
   "version": "3.8.8"
  }
 },
 "nbformat": 4,
 "nbformat_minor": 1
}
